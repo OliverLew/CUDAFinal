{
 "cells": [
  {
   "cell_type": "markdown",
   "metadata": {},
   "source": [
    "<div align=\"center\"><h1>Solving FDTD problem with CUDA</h1></div>"
   ]
  },
  {
   "cell_type": "code",
   "execution_count": null,
   "metadata": {},
   "outputs": [],
   "source": [
    "!pip install matplotlib -q"
   ]
  },
  {
   "cell_type": "code",
   "execution_count": null,
   "metadata": {},
   "outputs": [],
   "source": [
    "!nvcc -o FDTD2Dsolver FDTD2Dsolver.cu -run"
   ]
  },
  {
   "cell_type": "code",
   "execution_count": null,
   "metadata": {
    "scrolled": true
   },
   "outputs": [],
   "source": [
    "!nvprof ./FDTD2Dsolver"
   ]
  },
  {
   "cell_type": "code",
   "execution_count": null,
   "metadata": {},
   "outputs": [],
   "source": [
    "%matplotlib inline\n",
    "import matplotlib.pyplot as plt\n",
    "import numpy as np\n",
    "\n",
    "def ploteach(datafile):\n",
    "    with open(datafile) as f:\n",
    "        u = [line.split() for line in f]\n",
    "\n",
    "    U = np.array(u)\n",
    "    ly, lx = U.shape\n",
    "\n",
    "    x = np.linspace(0, 100, lx)\n",
    "    y = np.linspace(0, 100, ly)\n",
    "    X, Y = np.meshgrid(x, y)\n",
    "\n",
    "    plt.contour(X, Y, U)\n",
    "    plt.title(datafile)\n",
    "    plt.colorbar()\n",
    "\n",
    "plt.figure(figsize=(12, 8))\n",
    "plt.subplot(221)\n",
    "ploteach(\"u0.txt\")\n",
    "plt.subplot(222)\n",
    "ploteach(\"exact.txt\")\n",
    "plt.subplot(223)\n",
    "ploteach(\"diff.txt\")\n",
    "plt.show()\n",
    "plt.close()"
   ]
  }
 ],
 "metadata": {
  "kernelspec": {
   "display_name": "Python 2",
   "language": "python",
   "name": "python2"
  },
  "language_info": {
   "codemirror_mode": {
    "name": "ipython",
    "version": 2
   },
   "file_extension": ".py",
   "mimetype": "text/x-python",
   "name": "python",
   "nbconvert_exporter": "python",
   "pygments_lexer": "ipython2",
   "version": "2.7.12"
  }
 },
 "nbformat": 4,
 "nbformat_minor": 1
}
